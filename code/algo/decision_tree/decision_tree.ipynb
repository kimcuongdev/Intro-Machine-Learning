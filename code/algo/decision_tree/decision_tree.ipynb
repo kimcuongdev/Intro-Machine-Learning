{
 "cells": [
  {
   "cell_type": "markdown",
   "metadata": {},
   "source": [
    "# Decision Tree"
   ]
  },
  {
   "cell_type": "markdown",
   "metadata": {},
   "source": [
    "Trong phần này sẽ tìm hiểu về giải thuật ID3, một giải thuật tham lam cho mô hình Cây quyết định"
   ]
  },
  {
   "cell_type": "markdown",
   "metadata": {},
   "source": [
    "# Cơ sở lý thuyết"
   ]
  },
  {
   "cell_type": "markdown",
   "metadata": {},
   "source": [
    "## Các bước trong giải thuật ID3:\n",
    "* Trường hợp cơ sở:\n",
    "  * Nếu như tất cả các dữ liệu đang xét thuộc cùng một lớp thì phân lớp cho dữ liệu chính là lớp đó và kết thúc\n",
    "  * Nếu không còn thuộc tính dùng để phân lớp thì phân lớp cho dữ liệu vào lớp chiếm đa số trong tập dữ liệu đang xét\n",
    "* Các bước lặp:\n",
    "  * Lấy một thuộc tính có khả năng phân lớp mạnh nhất cho tập dữ liệu đang xét\n",
    "  * Phân lớp cho tập dữ liệu theo các giá trị của thuộc tính đó và tạo thành cây con\n"
   ]
  },
  {
   "cell_type": "markdown",
   "metadata": {},
   "source": [
    "## Xác định thuộc tính có khả năng phân lớp mạnh nhất:\n",
    "  * Thuộc tính có khả năng phân lớp mạnh nhất tức có thể chia tập dữ liệu thành các tập con mà trong mỗi tập, số lượng các điểm dữ liệu thuộc mỗi lớp khác nhau là phân biệt đối với nhau\n",
    "    * Ví dụ: Đối với tập dữ liệu gồm 25 điểm thuộc lớp c1 và 35 điểm thuộc lớp c2, khi phân lớp bằng thuộc tính A sẽ cho ra 3 tập con, trong đó số điểm thuộc lớp c1 và c2 trong mỗi tập lần lượt là (10, 15); (5, 5); (10, 15) thì sẽ được coi là phân loại kém hơn thuộc tính B nếu B chia tập dữ liệu thành 2 tập con (5, 30) và (20, 5)"
   ]
  },
  {
   "cell_type": "markdown",
   "metadata": {},
   "source": [
    "  * Để đo độ mạnh yếu của thuộc tính phân loại, ta dùng đại lượng \"entropy phân loại\", entropy phân loại càng cao tức độ hỗn loạn sau khi phân loại càng cao hay nói cách khác các dữ liệu sẽ phân bố gần như là đều với mọi lớp sau khi phân loại thì tính phân loại càng kém:\n",
    "    * Giả sử thuộc tính A phân loại tập dữ liệu thành các tập con $c_1, c_2, c_3,...,c_n$ với tỉ lệ các phần tử mỗi tập là $q_1, q_2, q_3,...,q_n$ thì entropy phân loại bằng thuộc tính A là: $$H(A) = q_1h(c_1) + q_2h(c_2) + q_3h(c_3) + ... + q_nh(c_n)$$ \n",
    "    * Trong đó, với $p_i$ là tỉ lệ các điểm dữ liệu được gán nhãn $i$, entropy thành phần được tính theo công thức: $$h(c_i) = -p_1log(p_1) - p_2log(p_2) - p_3log(p_3) - ... - p_mlog(p_m)$$"
   ]
  },
  {
   "cell_type": "markdown",
   "metadata": {},
   "source": [
    "# Thực hành code"
   ]
  },
  {
   "cell_type": "code",
   "execution_count": 61,
   "metadata": {},
   "outputs": [],
   "source": [
    "from typing import List, Dict, TypeVar, Any, NamedTuple, Union\n",
    "from collections import defaultdict, Counter\n",
    "import math"
   ]
  },
  {
   "cell_type": "markdown",
   "metadata": {},
   "source": [
    "## Viết các helper function"
   ]
  },
  {
   "cell_type": "markdown",
   "metadata": {},
   "source": [
    "### Hàm tính entropy thành phần của một tập\n",
    "* Đầu vào: Mảng lưu tỉ lệ các nhãn"
   ]
  },
  {
   "cell_type": "code",
   "execution_count": 62,
   "metadata": {},
   "outputs": [],
   "source": [
    "def entropy(class_probabilities: List[float]) -> float:\n",
    "    return sum(- p * math.log(p, 2)\n",
    "               for p in class_probabilities\n",
    "               if p > 0)\n",
    "\n",
    "assert entropy([1.0]) == 0\n",
    "assert entropy([0.5, 0.5]) == 1\n",
    "assert 0.81 < entropy([0.25, 0.75]) < 0.82"
   ]
  },
  {
   "cell_type": "markdown",
   "metadata": {},
   "source": [
    "### Hàm tính tỉ lệ các nhãn trong một tập\n",
    "* Đầu vào: Tập nhãn các điểm dữ liệu\n",
    "* Counter: Hàm đếm số điểm dữ liệu thuộc một nhãn tương ứng"
   ]
  },
  {
   "cell_type": "code",
   "execution_count": 63,
   "metadata": {},
   "outputs": [
    {
     "name": "stdout",
     "output_type": "stream",
     "text": [
      "Counter(labels) =  Counter({'Yes': 3, 'No': 2})\n",
      "Counter(labels).values() =  dict_values([3, 2])\n"
     ]
    }
   ],
   "source": [
    "# Ví dụ về Counter\n",
    "labels = ['Yes', 'No', 'Yes', 'Yes', 'No']\n",
    "print(\"Counter(labels) = \", Counter(labels))\n",
    "print(\"Counter(labels).values() = \", Counter(labels).values())\n",
    "# Hết ví dụ về Counter"
   ]
  },
  {
   "cell_type": "code",
   "execution_count": 64,
   "metadata": {},
   "outputs": [],
   "source": [
    "def class_probabilities(labels: List[Any]) -> List[float]:\n",
    "    total_count = len(labels)\n",
    "    return [count / total_count for count in Counter(labels).values()]"
   ]
  },
  {
   "cell_type": "markdown",
   "metadata": {},
   "source": [
    "### Hàm tính entropy của một tập nhãn dữ liệu"
   ]
  },
  {
   "cell_type": "code",
   "execution_count": 65,
   "metadata": {},
   "outputs": [
    {
     "name": "stdout",
     "output_type": "stream",
     "text": [
      "data_entropy(['a']) =  0.0\n",
      "data_entropy([True, False]) =  1.0\n",
      "data_entropy(['Yes', 'No', 'Yes', 'Yes', 'No']) =  0.9709505944546686\n"
     ]
    }
   ],
   "source": [
    "def data_entropy(labels: List[Any]) -> float:\n",
    "    return entropy(class_probabilities= class_probabilities(labels= labels))\n",
    "\n",
    "print(\"data_entropy(['a']) = \", data_entropy(['a']))\n",
    "print(\"data_entropy([True, False]) = \", data_entropy([True, False]))\n",
    "print(\"data_entropy(['Yes', 'No', 'Yes', 'Yes', 'No']) = \", data_entropy(['Yes', 'No', 'Yes', 'Yes', 'No']))"
   ]
  },
  {
   "cell_type": "markdown",
   "metadata": {},
   "source": [
    "### Hàm tính entropy của một phân loại\n",
    "* Đầu vào: các tập con sinh ra từ phân loại đó"
   ]
  },
  {
   "cell_type": "code",
   "execution_count": 66,
   "metadata": {},
   "outputs": [],
   "source": [
    "def partition_entropy(subsets: List[List[Any]]) -> float:\n",
    "    total_data_point = sum(len(subset) for subset in subsets)\n",
    "    return sum(len(subset) / total_data_point * data_entropy(subset) for subset in subsets)"
   ]
  },
  {
   "cell_type": "markdown",
   "metadata": {},
   "source": [
    "### Hàm phân loại dữ liệu theo giá trị thuộc tính"
   ]
  },
  {
   "cell_type": "code",
   "execution_count": 67,
   "metadata": {},
   "outputs": [],
   "source": [
    "T = TypeVar('T')\n",
    "def partition_by(data: List[T], attribute: str) -> Dict[Any, List[T]]:\n",
    "    partition: Dict[Any, List[T]] = defaultdict(list)\n",
    "    for data_point in data:\n",
    "        key = getattr(data_point, attribute)\n",
    "        partition[key].append(data_point)\n",
    "    return partition"
   ]
  },
  {
   "cell_type": "markdown",
   "metadata": {},
   "source": [
    "### Hàm tính entropy phân loại theo một thuộc tính"
   ]
  },
  {
   "cell_type": "code",
   "execution_count": 68,
   "metadata": {},
   "outputs": [],
   "source": [
    "# partitions là một Dict[key = giá trị thuộc tính, value = List[các điểm dữ liệu phân theo giá trị đó]]\n",
    "# partitions.values() để lấy các điểm dữ liệu đã được phân loại theo giá trị thuộc tính\n",
    "def partition_entropy_by(data: List[Any],\n",
    "                         attribute: str,\n",
    "                         label: str) -> float:\n",
    "    partitions = partition_by(data= data, attribute= attribute)\n",
    "    subsets = [[getattr(data_point, label) for data_point in partition] for partition in partitions.values()]\n",
    "    return partition_entropy(subsets= subsets)"
   ]
  },
  {
   "cell_type": "markdown",
   "metadata": {},
   "source": [
    "## Biểu diễn dữ liệu"
   ]
  },
  {
   "cell_type": "markdown",
   "metadata": {},
   "source": [
    "Cần dự đoán kết quả buổi phỏng vấn (did_well) của một ứng viên nếu biết trình độ (level), ngôn ngữ lập trình sử dụng (lang), có dùng tweets không (tweets), có phd không (phd)"
   ]
  },
  {
   "cell_type": "code",
   "execution_count": 69,
   "metadata": {},
   "outputs": [],
   "source": [
    "from typing import NamedTuple, Optional\n",
    "class Candidate(NamedTuple):\n",
    "    level: str\n",
    "    lang: str\n",
    "    tweets: str\n",
    "    phd: bool\n",
    "    did_well: Optional[bool] = None"
   ]
  },
  {
   "cell_type": "code",
   "execution_count": 70,
   "metadata": {},
   "outputs": [],
   "source": [
    "                  #  level     lang     tweets  phd  did_well\n",
    "data = [Candidate('Senior', 'Java',   False, False, False),\n",
    "          Candidate('Senior', 'Java',   False, True,  False),\n",
    "          Candidate('Mid',    'Python', False, False, True),\n",
    "          Candidate('Junior', 'Python', False, False, True),\n",
    "          Candidate('Junior', 'R',      True,  False, True),\n",
    "          Candidate('Junior', 'R',      True,  True,  False),\n",
    "          Candidate('Mid',    'R',      True,  True,  True),\n",
    "          Candidate('Senior', 'Python', False, False, False),\n",
    "          Candidate('Senior', 'R',      True,  False, True),\n",
    "          Candidate('Junior', 'Python', True,  False, True),\n",
    "          Candidate('Senior', 'Python', True,  True,  True),\n",
    "          Candidate('Mid',    'Python', False, True,  True),\n",
    "          Candidate('Mid',    'Java',   True,  False, True),\n",
    "          Candidate('Junior', 'Python', False, True,  False)\n",
    "         ]"
   ]
  },
  {
   "cell_type": "markdown",
   "metadata": {},
   "source": [
    "### Thử phân loại theo các thuộc tính"
   ]
  },
  {
   "cell_type": "code",
   "execution_count": 71,
   "metadata": {},
   "outputs": [
    {
     "name": "stdout",
     "output_type": "stream",
     "text": [
      "partition_entropy_by level: 0.6935361388961918\n",
      "partition_entropy_by lang: 0.8601317128547441\n",
      "partition_entropy_by tweets: 0.7884504573082896\n",
      "partition_entropy_by phd: 0.8921589282623617\n"
     ]
    }
   ],
   "source": [
    "keys = ['level', 'lang', 'tweets', 'phd']\n",
    "for key in keys:\n",
    "    print(f\"partition_entropy_by {key}: {partition_entropy_by(data= data, attribute= key, label= 'did_well')}\")"
   ]
  },
  {
   "cell_type": "markdown",
   "metadata": {},
   "source": [
    "## Xây dựng cây quyết định"
   ]
  },
  {
   "cell_type": "markdown",
   "metadata": {},
   "source": [
    "Cây quyết định được tạo bởi nút Lá (Leaf) chứa giá trị nhãn dự đoán\n",
    "và các Nhánh (Split) chứa giá trị thuộc tính phân chia (attribute), các cây con được phân chia (subtrees) và giá trị nhãn mặc định được chọn khi xuất hiện giá trị chưa được biết đến (default_value)"
   ]
  },
  {
   "cell_type": "markdown",
   "metadata": {},
   "source": [
    "Điểm dữ liệu chứa giá trị phân chia chưa được biết đến ở đây có thể là level = \"Intern\", với default_value = giá trị nhãn chiếm ưu thế hơn, giả sử là True thì điểm dữ liệu này sẽ được gán nhãn là True "
   ]
  },
  {
   "cell_type": "markdown",
   "metadata": {},
   "source": [
    "Ở đây cây con là một dict có keys là các giá trị của thuộc tính phân chia (attribute), values là những điểm mà thuộc tính phân chia có giá trị đó"
   ]
  },
  {
   "cell_type": "code",
   "execution_count": 72,
   "metadata": {},
   "outputs": [],
   "source": [
    "class Leaf(NamedTuple):\n",
    "    value: Any\n",
    "\n",
    "class Split(NamedTuple):\n",
    "    attribute: str\n",
    "    subtrees: dict\n",
    "    default_value: Any = None\n",
    "\n",
    "DecisionTree = Union[Leaf, Split]\n",
    "    "
   ]
  },
  {
   "cell_type": "markdown",
   "metadata": {},
   "source": [
    "### Hàm phân loại cho cây quyết định"
   ]
  },
  {
   "cell_type": "code",
   "execution_count": 73,
   "metadata": {},
   "outputs": [],
   "source": [
    "def classify(tree: DecisionTree, input: Any) -> Any:\n",
    "    # Nếu là một nút lá thì trả về giá trị dự đoán\n",
    "    if isinstance(tree, Leaf):\n",
    "        return tree.value\n",
    "    \n",
    "    # Nếu không\n",
    "    # Lấy giá trị của thuộc tính phân chia trong input\n",
    "    subtree_key = getattr(input, tree.attribute)\n",
    "    # Nếu giá trị thuộc tính này chưa từng có trong tập huấn luyện\n",
    "    # thì trả về nhãn ưu thế nhất\n",
    "    if subtree_key not in tree.subtrees:\n",
    "        return tree.default_value\n",
    "    # Nếu đã có trong tập huấn luyện thì phân chia tiếp theo giá trị này\n",
    "    subtree = tree.subtrees[subtree_key]\n",
    "    return classify(tree= subtree, input= input)"
   ]
  },
  {
   "cell_type": "markdown",
   "metadata": {},
   "source": [
    "### Hàm xây dựng cây quyết định"
   ]
  },
  {
   "cell_type": "markdown",
   "metadata": {},
   "source": [
    "Đầu vào:\n",
    "* Tập dữ liệu huấn luyện (data)\n",
    "* Thuộc tính phân chia (split_attribute)\n",
    "* Thuộc tính cần dự đoán (target_attribute)"
   ]
  },
  {
   "cell_type": "code",
   "execution_count": null,
   "metadata": {},
   "outputs": [],
   "source": [
    "def build_tree_id3(data: List[Any],\n",
    "                   split_attribute: List[str],\n",
    "                   target_attribute: str) -> DecisionTree:\n",
    "    \n",
    "    labels_count = Counter(getattr(data_point, target_attribute) for data_point in data)\n",
    "    most_common_label = labels_count.most_common(1)[0][0]\n",
    "\n",
    "    if len(labels_count) == 1:\n",
    "        return Leaf(most_common_label)\n",
    "    if not split_attribute:\n",
    "        return Leaf(most_common_label)\n",
    "    \n",
    "    def split_entropy(attibute: str) -> float:\n",
    "        return partition_entropy_by(data= data, attribute= attibute, label= target_attribute)\n",
    "    \n",
    "    best_attribute = min(split_attribute, key= split_entropy)\n",
    "\n",
    "    partitions = partition_by(data= data, attribute= best_attribute)\n",
    "\n",
    "    new_attribute = [a for a in split_attribute if a != best_attribute]\n",
    "\n",
    "    subtrees = {attribute_value: build_tree_id3(data= subset,\n",
    "                                               split_attribute= new_attribute,\n",
    "                                               target_attribute= target_attribute)\n",
    "                for attribute_value, subset in partitions.items()}\n",
    "    \n",
    "    return Split(attribute= best_attribute, \n",
    "                 subtrees= subtrees, \n",
    "                 default_value= most_common_label)"
   ]
  },
  {
   "cell_type": "code",
   "execution_count": 75,
   "metadata": {},
   "outputs": [],
   "source": [
    "tree = build_tree_id3(data= data, \n",
    "                      split_attribute= ['level', 'lang', 'tweets', 'phd'],\n",
    "                      target_attribute= 'did_well')"
   ]
  },
  {
   "cell_type": "code",
   "execution_count": 76,
   "metadata": {},
   "outputs": [
    {
     "data": {
      "text/plain": [
       "True"
      ]
     },
     "execution_count": 76,
     "metadata": {},
     "output_type": "execute_result"
    }
   ],
   "source": [
    "classify(tree= tree, input= Candidate(\"Junior\", \"Java\", True, False))"
   ]
  },
  {
   "cell_type": "code",
   "execution_count": 77,
   "metadata": {},
   "outputs": [
    {
     "data": {
      "text/plain": [
       "False"
      ]
     },
     "execution_count": 77,
     "metadata": {},
     "output_type": "execute_result"
    }
   ],
   "source": [
    "classify(tree= tree, input= Candidate(\"Junior\", \"Java\", True, True))"
   ]
  },
  {
   "cell_type": "code",
   "execution_count": 78,
   "metadata": {},
   "outputs": [
    {
     "data": {
      "text/plain": [
       "True"
      ]
     },
     "execution_count": 78,
     "metadata": {},
     "output_type": "execute_result"
    }
   ],
   "source": [
    "classify(tree= tree, input= Candidate(\"Intern\", \"Java\", True, True))"
   ]
  }
 ],
 "metadata": {
  "kernelspec": {
   "display_name": "venv",
   "language": "python",
   "name": "python3"
  },
  "language_info": {
   "codemirror_mode": {
    "name": "ipython",
    "version": 3
   },
   "file_extension": ".py",
   "mimetype": "text/x-python",
   "name": "python",
   "nbconvert_exporter": "python",
   "pygments_lexer": "ipython3",
   "version": "3.11.0"
  }
 },
 "nbformat": 4,
 "nbformat_minor": 2
}
